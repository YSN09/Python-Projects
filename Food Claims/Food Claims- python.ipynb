{
 "cells": [
  {
   "cell_type": "code",
   "execution_count": 2,
   "id": "11a42a2a",
   "metadata": {},
   "outputs": [],
   "source": [
    "import pandas as pd\n",
    "import matplotlib.pyplot as plt \n",
    "import seaborn as sns "
   ]
  },
  {
   "cell_type": "code",
   "execution_count": 3,
   "id": "0fa60380",
   "metadata": {},
   "outputs": [
    {
     "data": {
      "text/html": [
       "<div>\n",
       "<style scoped>\n",
       "    .dataframe tbody tr th:only-of-type {\n",
       "        vertical-align: middle;\n",
       "    }\n",
       "\n",
       "    .dataframe tbody tr th {\n",
       "        vertical-align: top;\n",
       "    }\n",
       "\n",
       "    .dataframe thead th {\n",
       "        text-align: right;\n",
       "    }\n",
       "</style>\n",
       "<table border=\"1\" class=\"dataframe\">\n",
       "  <thead>\n",
       "    <tr style=\"text-align: right;\">\n",
       "      <th></th>\n",
       "      <th>claim_id</th>\n",
       "      <th>time_to_close</th>\n",
       "      <th>claim_amount</th>\n",
       "      <th>amount_paid</th>\n",
       "      <th>location</th>\n",
       "      <th>individuals_on_claim</th>\n",
       "      <th>linked_cases</th>\n",
       "      <th>cause</th>\n",
       "    </tr>\n",
       "  </thead>\n",
       "  <tbody>\n",
       "    <tr>\n",
       "      <th>0</th>\n",
       "      <td>1</td>\n",
       "      <td>317</td>\n",
       "      <td>R$ 74474.55</td>\n",
       "      <td>51231.37</td>\n",
       "      <td>RECIFE</td>\n",
       "      <td>15</td>\n",
       "      <td>False</td>\n",
       "      <td>unknown</td>\n",
       "    </tr>\n",
       "    <tr>\n",
       "      <th>1</th>\n",
       "      <td>2</td>\n",
       "      <td>195</td>\n",
       "      <td>R$ 52137.83</td>\n",
       "      <td>42111.30</td>\n",
       "      <td>FORTALEZA</td>\n",
       "      <td>12</td>\n",
       "      <td>True</td>\n",
       "      <td>unknown</td>\n",
       "    </tr>\n",
       "    <tr>\n",
       "      <th>2</th>\n",
       "      <td>3</td>\n",
       "      <td>183</td>\n",
       "      <td>R$ 24447.2</td>\n",
       "      <td>23986.30</td>\n",
       "      <td>SAO LUIS</td>\n",
       "      <td>10</td>\n",
       "      <td>True</td>\n",
       "      <td>meat</td>\n",
       "    </tr>\n",
       "    <tr>\n",
       "      <th>3</th>\n",
       "      <td>4</td>\n",
       "      <td>186</td>\n",
       "      <td>R$ 29006.28</td>\n",
       "      <td>27942.72</td>\n",
       "      <td>FORTALEZA</td>\n",
       "      <td>11</td>\n",
       "      <td>False</td>\n",
       "      <td>meat</td>\n",
       "    </tr>\n",
       "    <tr>\n",
       "      <th>4</th>\n",
       "      <td>5</td>\n",
       "      <td>138</td>\n",
       "      <td>R$ 19520.6</td>\n",
       "      <td>16251.06</td>\n",
       "      <td>RECIFE</td>\n",
       "      <td>11</td>\n",
       "      <td>False</td>\n",
       "      <td>vegetable</td>\n",
       "    </tr>\n",
       "  </tbody>\n",
       "</table>\n",
       "</div>"
      ],
      "text/plain": [
       "   claim_id  time_to_close claim_amount  amount_paid   location  \\\n",
       "0         1            317  R$ 74474.55     51231.37     RECIFE   \n",
       "1         2            195  R$ 52137.83     42111.30  FORTALEZA   \n",
       "2         3            183   R$ 24447.2     23986.30   SAO LUIS   \n",
       "3         4            186  R$ 29006.28     27942.72  FORTALEZA   \n",
       "4         5            138   R$ 19520.6     16251.06     RECIFE   \n",
       "\n",
       "   individuals_on_claim linked_cases      cause  \n",
       "0                    15        False    unknown  \n",
       "1                    12         True    unknown  \n",
       "2                    10         True       meat  \n",
       "3                    11        False       meat  \n",
       "4                    11        False  vegetable  "
      ]
     },
     "execution_count": 3,
     "metadata": {},
     "output_type": "execute_result"
    }
   ],
   "source": [
    "claims = pd.read_csv(r\"C:\\Users\\yeshw\\Downloads\\food_claims_2212.csv\")\n",
    "claims.head()"
   ]
  },
  {
   "cell_type": "markdown",
   "id": "2e00de87",
   "metadata": {},
   "source": [
    "## Data Cleaning"
   ]
  },
  {
   "cell_type": "code",
   "execution_count": 4,
   "id": "b4a084f9",
   "metadata": {},
   "outputs": [
    {
     "name": "stdout",
     "output_type": "stream",
     "text": [
      "claim_id : int64\n",
      "time_to_close : int64\n",
      "claim_amount : object\n",
      "amount_paid : float64\n",
      "location : object\n",
      "individuals_on_claim : int64\n",
      "linked_cases : object\n",
      "cause : object\n"
     ]
    }
   ],
   "source": [
    "for column in claims.columns:\n",
    "    types = claims[column].dtype\n",
    "    print(f'{column} : {types}')"
   ]
  },
  {
   "cell_type": "markdown",
   "id": "1a3f57e6",
   "metadata": {},
   "source": [
    "#### claim_id"
   ]
  },
  {
   "cell_type": "code",
   "execution_count": 5,
   "id": "62fde9c5",
   "metadata": {},
   "outputs": [
    {
     "name": "stdout",
     "output_type": "stream",
     "text": [
      "int64\n",
      "No\n",
      "Null values in claim_id = 0\n"
     ]
    }
   ],
   "source": [
    "# checking the type of data \n",
    "print(claims['claim_id'].dtype)\n",
    "# checking for unique values \n",
    "claim_count = claims['claim_id'].value_counts()\n",
    "if (claim_count > 1).any():\n",
    "    print('Yes')\n",
    "else:\n",
    "    print('No')\n",
    "null_claim = claims['claim_id'].isna().sum() \n",
    "# checking for null values \n",
    "print(f'Null values in claim_id = {null_claim}')"
   ]
  },
  {
   "cell_type": "code",
   "execution_count": 6,
   "id": "f34583ba",
   "metadata": {},
   "outputs": [
    {
     "name": "stdout",
     "output_type": "stream",
     "text": [
      "category\n"
     ]
    }
   ],
   "source": [
    "# converting the claim_id data into nominal type \n",
    "claims['claim_id'] = claims['claim_id'].astype('category')\n",
    "print(claims['claim_id'].dtype)"
   ]
  },
  {
   "cell_type": "markdown",
   "id": "1d7234f6",
   "metadata": {},
   "source": [
    "#### time_to_close"
   ]
  },
  {
   "cell_type": "code",
   "execution_count": 7,
   "id": "e04aba2c",
   "metadata": {},
   "outputs": [
    {
     "name": "stdout",
     "output_type": "stream",
     "text": [
      "int64\n"
     ]
    }
   ],
   "source": [
    "# checking whether it is a discrete data\n",
    "print(claims['time_to_close'].dtype)"
   ]
  },
  {
   "cell_type": "code",
   "execution_count": 8,
   "id": "29dc9248",
   "metadata": {},
   "outputs": [
    {
     "name": "stdout",
     "output_type": "stream",
     "text": [
      "There does not exist a Negative value\n"
     ]
    }
   ],
   "source": [
    "pos_time = claims['time_to_close'].unique()\n",
    "if (pos_time < 1).any():\n",
    "    print('There exists a Negative value')\n",
    "else:\n",
    "    print('There does not exist a Negative value')"
   ]
  },
  {
   "cell_type": "code",
   "execution_count": 9,
   "id": "9656af1f",
   "metadata": {},
   "outputs": [
    {
     "name": "stdout",
     "output_type": "stream",
     "text": [
      "column \"time_to_close\" has 0 null values\n"
     ]
    }
   ],
   "source": [
    "# checking for null values \n",
    "null_close = claims['time_to_close'].isna().sum()\n",
    "print(f'column \"time_to_close\" has {null_close} null values')"
   ]
  },
  {
   "cell_type": "markdown",
   "id": "15343d8c",
   "metadata": {},
   "source": [
    "#### Claim_amount"
   ]
  },
  {
   "cell_type": "code",
   "execution_count": 10,
   "id": "ac55dc45",
   "metadata": {},
   "outputs": [
    {
     "name": "stdout",
     "output_type": "stream",
     "text": [
      "object\n"
     ]
    }
   ],
   "source": [
    "print(claims['claim_amount'].dtype)"
   ]
  },
  {
   "cell_type": "code",
   "execution_count": 11,
   "id": "eaa4cacc",
   "metadata": {},
   "outputs": [
    {
     "name": "stdout",
     "output_type": "stream",
     "text": [
      "float64\n"
     ]
    }
   ],
   "source": [
    "# converting into float so as to make it continous and rounding it to 2 decimal places\n",
    "claims['claim_amount'] = claims['claim_amount'].replace('R\\$ ', '', regex = True)\n",
    "claims['claim_amount'] = claims['claim_amount'].astype(float)\n",
    "claims['claim_amount'] = round(claims['claim_amount'],2)\n",
    "print(claims['claim_amount'].dtype)"
   ]
  },
  {
   "cell_type": "code",
   "execution_count": 12,
   "id": "aa4cc56b",
   "metadata": {},
   "outputs": [
    {
     "name": "stdout",
     "output_type": "stream",
     "text": [
      "columns claim_amount has 0 null values\n"
     ]
    }
   ],
   "source": [
    "# checking for any null values \n",
    "null_amount = claims['claim_amount'].isna().sum()\n",
    "print(f'columns claim_amount has {null_amount} null values')"
   ]
  },
  {
   "cell_type": "markdown",
   "id": "15f16b1e",
   "metadata": {},
   "source": [
    "#### amount_paid"
   ]
  },
  {
   "cell_type": "code",
   "execution_count": 13,
   "id": "fb6427fd",
   "metadata": {},
   "outputs": [
    {
     "name": "stdout",
     "output_type": "stream",
     "text": [
      "float64\n"
     ]
    }
   ],
   "source": [
    "# checking for whether the column is continous\n",
    "print(claims[\"amount_paid\"].dtype)"
   ]
  },
  {
   "cell_type": "code",
   "execution_count": 14,
   "id": "e1f72b1e",
   "metadata": {},
   "outputs": [],
   "source": [
    "# rounding it of two decimal places \n",
    "claims['amount_paid'] = round(claims['amount_paid'],2)"
   ]
  },
  {
   "cell_type": "code",
   "execution_count": 15,
   "id": "887b4d3c",
   "metadata": {},
   "outputs": [
    {
     "name": "stdout",
     "output_type": "stream",
     "text": [
      "columns amount_paid has 36 null values\n"
     ]
    }
   ],
   "source": [
    "# checking for any missing values \n",
    "null_paid = claims['amount_paid'].isna().sum()\n",
    "print(f'columns amount_paid has {null_paid} null values')"
   ]
  },
  {
   "cell_type": "code",
   "execution_count": 16,
   "id": "21def5f8",
   "metadata": {},
   "outputs": [
    {
     "name": "stdout",
     "output_type": "stream",
     "text": [
      "0\n"
     ]
    }
   ],
   "source": [
    "# replacing the null values with the overall median amount\n",
    "claims['amount_paid'] = claims['amount_paid'].fillna(claims['amount_paid'].median())\n",
    "print(claims['amount_paid'].isna().sum())"
   ]
  },
  {
   "cell_type": "markdown",
   "id": "a8a0627d",
   "metadata": {},
   "source": [
    "#### location"
   ]
  },
  {
   "cell_type": "code",
   "execution_count": 17,
   "id": "6f1bd3e3",
   "metadata": {},
   "outputs": [
    {
     "name": "stdout",
     "output_type": "stream",
     "text": [
      "object\n"
     ]
    }
   ],
   "source": [
    "# # checking for whether the column is Nominal\n",
    "print(claims['location'].dtype)"
   ]
  },
  {
   "cell_type": "code",
   "execution_count": 18,
   "id": "bc4f1855",
   "metadata": {},
   "outputs": [
    {
     "data": {
      "text/plain": [
       "array(['RECIFE', 'FORTALEZA', 'SAO LUIS', 'NATAL'], dtype=object)"
      ]
     },
     "execution_count": 18,
     "metadata": {},
     "output_type": "execute_result"
    }
   ],
   "source": [
    "claims['location'].unique()"
   ]
  },
  {
   "cell_type": "code",
   "execution_count": 19,
   "id": "cf5db7a7",
   "metadata": {},
   "outputs": [
    {
     "name": "stdout",
     "output_type": "stream",
     "text": [
      "column location has 0 null values\n"
     ]
    }
   ],
   "source": [
    "# checking for null values \n",
    "null_paid = claims['location'].isna().sum()\n",
    "print(f'column location has {null_paid} null values')"
   ]
  },
  {
   "cell_type": "markdown",
   "id": "2034dee7",
   "metadata": {},
   "source": [
    "#### individuals_on_claim"
   ]
  },
  {
   "cell_type": "code",
   "execution_count": 20,
   "id": "5d7fb2ce",
   "metadata": {},
   "outputs": [
    {
     "name": "stdout",
     "output_type": "stream",
     "text": [
      "int64\n"
     ]
    }
   ],
   "source": [
    "#checking for whether the column is discrete\n",
    "print(claims['individuals_on_claim'].dtype)"
   ]
  },
  {
   "cell_type": "code",
   "execution_count": 21,
   "id": "a97d3e47",
   "metadata": {},
   "outputs": [
    {
     "name": "stdout",
     "output_type": "stream",
     "text": [
      "16099\n"
     ]
    }
   ],
   "source": [
    "# total number of individuals on this claim\n",
    "print(claims['individuals_on_claim'].sum())"
   ]
  },
  {
   "cell_type": "code",
   "execution_count": 22,
   "id": "8472a5bb",
   "metadata": {},
   "outputs": [
    {
     "name": "stdout",
     "output_type": "stream",
     "text": [
      "Minimum value is '1'\n"
     ]
    }
   ],
   "source": [
    "individual_count = claims['individuals_on_claim'].value_counts() \n",
    "if ( individual_count < 1).any():\n",
    "    print(\"Minimum value 'less' than 1 \")\n",
    "else:\n",
    "    print(\"Minimum value is '1'\")"
   ]
  },
  {
   "cell_type": "code",
   "execution_count": 23,
   "id": "581a7ec0",
   "metadata": {},
   "outputs": [
    {
     "name": "stdout",
     "output_type": "stream",
     "text": [
      "column \"individuals_on_claim\" has 0 null values\n"
     ]
    }
   ],
   "source": [
    "# checking for null values \n",
    "null_indv_claims = claims['individuals_on_claim'].isna().sum()\n",
    "print(f'column \"individuals_on_claim\" has {null_indv_claims} null values')"
   ]
  },
  {
   "cell_type": "markdown",
   "id": "337bfeaf",
   "metadata": {},
   "source": [
    "#### linked_cases"
   ]
  },
  {
   "cell_type": "code",
   "execution_count": 24,
   "id": "516569a7",
   "metadata": {},
   "outputs": [
    {
     "name": "stdout",
     "output_type": "stream",
     "text": [
      "object\n"
     ]
    }
   ],
   "source": [
    "#checking for whether the column is discrete\n",
    "print(claims['linked_cases'].dtype)"
   ]
  },
  {
   "cell_type": "code",
   "execution_count": 25,
   "id": "8899f87f",
   "metadata": {},
   "outputs": [
    {
     "name": "stdout",
     "output_type": "stream",
     "text": [
      "linked_cases\n",
      "False    1493\n",
      "True      481\n",
      "Name: linked_cases, dtype: int64\n"
     ]
    }
   ],
   "source": [
    "# how many claims are linked to other cases \n",
    "linked = claims.groupby('linked_cases')['linked_cases'].count()\n",
    "print(linked)"
   ]
  },
  {
   "cell_type": "code",
   "execution_count": 26,
   "id": "061694d1",
   "metadata": {},
   "outputs": [
    {
     "data": {
      "text/plain": [
       "array([False, True, nan], dtype=object)"
      ]
     },
     "execution_count": 26,
     "metadata": {},
     "output_type": "execute_result"
    }
   ],
   "source": [
    "# the column should either contain True or False values \n",
    "claims['linked_cases'].unique()"
   ]
  },
  {
   "cell_type": "code",
   "execution_count": 27,
   "id": "f2a8483b",
   "metadata": {},
   "outputs": [
    {
     "name": "stdout",
     "output_type": "stream",
     "text": [
      "column \"linked_cases\" has 26 null values\n"
     ]
    }
   ],
   "source": [
    "# checking for null values \n",
    "null_linked = claims['linked_cases'].isna().sum()\n",
    "print(f'column \"linked_cases\" has {null_linked} null values')"
   ]
  },
  {
   "cell_type": "code",
   "execution_count": 28,
   "id": "cfc2f11a",
   "metadata": {},
   "outputs": [
    {
     "data": {
      "text/plain": [
       "array(['False', 'True'], dtype=object)"
      ]
     },
     "execution_count": 28,
     "metadata": {},
     "output_type": "execute_result"
    }
   ],
   "source": [
    "# replacing null values \n",
    "claims['linked_cases'] = claims['linked_cases'].fillna('False')\n",
    "claims['linked_cases'] = claims['linked_cases'].astype(str)\n",
    "claims['linked_cases'].unique()"
   ]
  },
  {
   "cell_type": "code",
   "execution_count": 29,
   "id": "7138f5b4",
   "metadata": {},
   "outputs": [
    {
     "name": "stdout",
     "output_type": "stream",
     "text": [
      "linked_cases\n",
      "False    1519\n",
      "True      481\n",
      "Name: linked_cases, dtype: int64\n"
     ]
    }
   ],
   "source": [
    "# how many claims are linked to other cases \n",
    "linked = claims.groupby('linked_cases')['linked_cases'].count()\n",
    "print(linked)"
   ]
  },
  {
   "cell_type": "markdown",
   "id": "075c38c0",
   "metadata": {},
   "source": [
    "#### cause"
   ]
  },
  {
   "cell_type": "code",
   "execution_count": 30,
   "id": "dce59b03",
   "metadata": {},
   "outputs": [
    {
     "name": "stdout",
     "output_type": "stream",
     "text": [
      "object\n"
     ]
    }
   ],
   "source": [
    "#checking for whether the column is nominal\n",
    "print(claims['cause'].dtype)"
   ]
  },
  {
   "cell_type": "code",
   "execution_count": 31,
   "id": "2046c1da",
   "metadata": {},
   "outputs": [
    {
     "name": "stdout",
     "output_type": "stream",
     "text": [
      "cause\n",
      "meat         957\n",
      "unknown      713\n",
      "vegetable    330\n",
      "Name: cause, dtype: int64\n"
     ]
    }
   ],
   "source": [
    "# checking for the unique values\n",
    "claims['cause'].unique()\n",
    "# here we can see that different categories are created based on word format\n",
    "claims['cause'] = claims['cause'].str.lower()\n",
    "claims['cause'] = claims['cause'].replace(['vegetable','vegetables'], 'vegetable')\n",
    "claims['cause'] = claims['cause'].replace(['meat',' meat'], 'meat')\n",
    "print(claims.groupby('cause')['cause'].count())"
   ]
  },
  {
   "cell_type": "code",
   "execution_count": 32,
   "id": "bc3da88c",
   "metadata": {},
   "outputs": [
    {
     "name": "stdout",
     "output_type": "stream",
     "text": [
      "column \"cause\" has 0 null values\n"
     ]
    }
   ],
   "source": [
    "# checking for null values \n",
    "null_cause = claims['cause'].isna().sum()\n",
    "print(f'column \"cause\" has {null_cause} null values')"
   ]
  },
  {
   "cell_type": "markdown",
   "id": "eeed693b",
   "metadata": {},
   "source": [
    "Cleaned Data"
   ]
  },
  {
   "cell_type": "code",
   "execution_count": 83,
   "id": "ccb7c42b",
   "metadata": {},
   "outputs": [
    {
     "data": {
      "text/html": [
       "<div>\n",
       "<style scoped>\n",
       "    .dataframe tbody tr th:only-of-type {\n",
       "        vertical-align: middle;\n",
       "    }\n",
       "\n",
       "    .dataframe tbody tr th {\n",
       "        vertical-align: top;\n",
       "    }\n",
       "\n",
       "    .dataframe thead th {\n",
       "        text-align: right;\n",
       "    }\n",
       "</style>\n",
       "<table border=\"1\" class=\"dataframe\">\n",
       "  <thead>\n",
       "    <tr style=\"text-align: right;\">\n",
       "      <th></th>\n",
       "      <th>claim_id</th>\n",
       "      <th>time_to_close</th>\n",
       "      <th>claim_amount</th>\n",
       "      <th>amount_paid</th>\n",
       "      <th>location</th>\n",
       "      <th>individuals_on_claim</th>\n",
       "      <th>linked_cases</th>\n",
       "      <th>cause</th>\n",
       "    </tr>\n",
       "  </thead>\n",
       "  <tbody>\n",
       "    <tr>\n",
       "      <th>0</th>\n",
       "      <td>1</td>\n",
       "      <td>317</td>\n",
       "      <td>74474.55</td>\n",
       "      <td>51231.37</td>\n",
       "      <td>RECIFE</td>\n",
       "      <td>15</td>\n",
       "      <td>False</td>\n",
       "      <td>unknown</td>\n",
       "    </tr>\n",
       "    <tr>\n",
       "      <th>1</th>\n",
       "      <td>2</td>\n",
       "      <td>195</td>\n",
       "      <td>52137.83</td>\n",
       "      <td>42111.30</td>\n",
       "      <td>FORTALEZA</td>\n",
       "      <td>12</td>\n",
       "      <td>True</td>\n",
       "      <td>unknown</td>\n",
       "    </tr>\n",
       "    <tr>\n",
       "      <th>2</th>\n",
       "      <td>3</td>\n",
       "      <td>183</td>\n",
       "      <td>24447.20</td>\n",
       "      <td>23986.30</td>\n",
       "      <td>SAO LUIS</td>\n",
       "      <td>10</td>\n",
       "      <td>True</td>\n",
       "      <td>meat</td>\n",
       "    </tr>\n",
       "    <tr>\n",
       "      <th>3</th>\n",
       "      <td>4</td>\n",
       "      <td>186</td>\n",
       "      <td>29006.28</td>\n",
       "      <td>27942.72</td>\n",
       "      <td>FORTALEZA</td>\n",
       "      <td>11</td>\n",
       "      <td>False</td>\n",
       "      <td>meat</td>\n",
       "    </tr>\n",
       "    <tr>\n",
       "      <th>4</th>\n",
       "      <td>5</td>\n",
       "      <td>138</td>\n",
       "      <td>19520.60</td>\n",
       "      <td>16251.06</td>\n",
       "      <td>RECIFE</td>\n",
       "      <td>11</td>\n",
       "      <td>False</td>\n",
       "      <td>vegetable</td>\n",
       "    </tr>\n",
       "  </tbody>\n",
       "</table>\n",
       "</div>"
      ],
      "text/plain": [
       "  claim_id  time_to_close  claim_amount  amount_paid   location  \\\n",
       "0        1            317      74474.55     51231.37     RECIFE   \n",
       "1        2            195      52137.83     42111.30  FORTALEZA   \n",
       "2        3            183      24447.20     23986.30   SAO LUIS   \n",
       "3        4            186      29006.28     27942.72  FORTALEZA   \n",
       "4        5            138      19520.60     16251.06     RECIFE   \n",
       "\n",
       "   individuals_on_claim linked_cases      cause  \n",
       "0                    15        False    unknown  \n",
       "1                    12         True    unknown  \n",
       "2                    10         True       meat  \n",
       "3                    11        False       meat  \n",
       "4                    11        False  vegetable  "
      ]
     },
     "execution_count": 83,
     "metadata": {},
     "output_type": "execute_result"
    }
   ],
   "source": [
    "claims.head()"
   ]
  },
  {
   "cell_type": "markdown",
   "id": "6d7e13c8",
   "metadata": {},
   "source": [
    "## 2) Create a visualization that shows the number of claims in each location. Use the visualization to:"
   ]
  },
  {
   "cell_type": "markdown",
   "id": "cad82c54",
   "metadata": {},
   "source": [
    "### a) State which category of the variable location has the most observations"
   ]
  },
  {
   "cell_type": "code",
   "execution_count": 33,
   "id": "877651ec",
   "metadata": {},
   "outputs": [
    {
     "name": "stdout",
     "output_type": "stream",
     "text": [
      "    location  count\n",
      "0     RECIFE    885\n",
      "1   SAO LUIS    517\n",
      "2  FORTALEZA    311\n",
      "3      NATAL    287\n"
     ]
    }
   ],
   "source": [
    "observations = claims.groupby('location')['location'].count().reset_index(name='count')\n",
    "observations = observations.sort_values(by = 'count',ascending = False)\n",
    "observations = observations.reset_index(drop = True)\n",
    "print(observations)"
   ]
  },
  {
   "cell_type": "code",
   "execution_count": 34,
   "id": "cb9228c7",
   "metadata": {},
   "outputs": [
    {
     "data": {
      "image/png": "[encoded data removed]",
      "text/plain": [
       "<Figure size 640x480 with 1 Axes>"
      ]
     },
     "metadata": {},
     "output_type": "display_data"
    }
   ],
   "source": [
    "sns.barplot( x = observations['location'], y = observations['count'], palette = 'inferno' )\n",
    "plt.show()"
   ]
  },
  {
   "cell_type": "code",
   "execution_count": 35,
   "id": "6aab5c22",
   "metadata": {},
   "outputs": [
    {
     "data": {
      "image/png": "[encoded data removed]",
      "text/plain": [
       "<Figure size 640x480 with 1 Axes>"
      ]
     },
     "metadata": {},
     "output_type": "display_data"
    }
   ],
   "source": [
    "plt.pie(observations['count'], labels = observations['location'], autopct='%1.1f%%')\n",
    "plt.show()"
   ]
  },
  {
   "cell_type": "markdown",
   "id": "104cd35c",
   "metadata": {},
   "source": [
    "### 3. Describe the distribution of time to close for all claims. Your answer must include a visualization that shows the distribution.\n"
   ]
  },
  {
   "cell_type": "code",
   "execution_count": 55,
   "id": "450832b0",
   "metadata": {},
   "outputs": [
    {
     "data": {
      "image/png": "[encoded data removed]",
      "text/plain": [
       "<Figure size 640x480 with 1 Axes>"
      ]
     },
     "metadata": {},
     "output_type": "display_data"
    }
   ],
   "source": [
    "plt.hist(claims['time_to_close'], bins = 10,edgecolor = 'black')\n",
    "plt.xlabel('Days to close')\n",
    "plt.ylabel('Frequency')\n",
    "plt.title('Distribution of Time to Close for all Claims')\n",
    "plt.show()"
   ]
  },
  {
   "cell_type": "markdown",
   "id": "b3b7bfe5",
   "metadata": {},
   "source": [
    "### 4. Describe the relationship between time to close and location. Your answer must include a visualization to demonstrate the relationship.\n"
   ]
  },
  {
   "cell_type": "code",
   "execution_count": 75,
   "id": "5b4e8537",
   "metadata": {},
   "outputs": [
    {
     "data": {
      "image/png": "[encoded data removed]",
      "text/plain": [
       "<Figure size 640x480 with 1 Axes>"
      ]
     },
     "metadata": {},
     "output_type": "display_data"
    }
   ],
   "source": [
    "time_location = claims.groupby('location')['time_to_close'].mean().reset_index(name = 'count')\n",
    "sns.barplot(x = time_location['location'], y = time_location['count'], palette = 'RdYlGn')\n",
    "plt.xlabel('Location')\n",
    "plt.ylabel('Average Days to Close')\n",
    "plt.title('Relationship between Time to Close and Location')\n",
    "plt.show()"
   ]
  },
  {
   "cell_type": "code",
   "execution_count": 81,
   "id": "4c5af624",
   "metadata": {},
   "outputs": [
    {
     "data": {
      "image/png": "[encoded data removed]",
      "text/plain": [
       "<Figure size 1000x600 with 1 Axes>"
      ]
     },
     "metadata": {},
     "output_type": "display_data"
    }
   ],
   "source": [
    "plt.figure(figsize=(10, 6))\n",
    "sns.violinplot(data=claims, x='location', y='time_to_close', palette='Set3')\n",
    "plt.xlabel('Location')\n",
    "plt.ylabel('Time to Close')\n",
    "plt.show()"
   ]
  },
  {
   "cell_type": "code",
   "execution_count": null,
   "id": "72a5daa4",
   "metadata": {},
   "outputs": [],
   "source": []
  }
 ],
 "metadata": {
  "kernelspec": {
   "display_name": "Python 3 (ipykernel)",
   "language": "python",
   "name": "python3"
  },
  "language_info": {
   "codemirror_mode": {
    "name": "ipython",
    "version": 3
   },
   "file_extension": ".py",
   "mimetype": "text/x-python",
   "name": "python",
   "nbconvert_exporter": "python",
   "pygments_lexer": "ipython3",
   "version": "3.11.3"
  }
 },
 "nbformat": 4,
 "nbformat_minor": 5
}
