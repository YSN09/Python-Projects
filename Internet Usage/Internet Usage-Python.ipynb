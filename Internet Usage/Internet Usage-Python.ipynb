{
 "cells": [
  {
   "cell_type": "code",
   "execution_count": 1,
   "id": "61827dc0",
   "metadata": {},
   "outputs": [],
   "source": [
    "import pandas as pd \n",
    "import matplotlib.pyplot as plt\n",
    "import seaborn as sns "
   ]
  },
  {
   "cell_type": "code",
   "execution_count": 2,
   "id": "e8ab9a98",
   "metadata": {},
   "outputs": [
    {
     "name": "stdout",
     "output_type": "stream",
     "text": [
      "        Entity Code  Year  Users\n",
      "0  Afghanistan  AFG  1990      0\n",
      "1  Afghanistan  AFG  1991      0\n",
      "2  Afghanistan  AFG  1992      0\n",
      "3  Afghanistan  AFG  1993      0\n",
      "4  Afghanistan  AFG  1994      0\n",
      "-----------------------------\n",
      "        Entity Code  Year  Internet_Usage\n",
      "0  Afghanistan  AFG  1990             0.0\n",
      "1  Afghanistan  AFG  1991             0.0\n",
      "2  Afghanistan  AFG  1992             0.0\n",
      "3  Afghanistan  AFG  1993             0.0\n",
      "4  Afghanistan  AFG  1994             0.0\n",
      "-----------------------------\n",
      "        Entity Code  Year  Broadband_Subscriptions\n",
      "0  Afghanistan  AFG  2004                 0.000809\n",
      "1  Afghanistan  AFG  2005                 0.000858\n",
      "2  Afghanistan  AFG  2006                 0.001892\n",
      "3  Afghanistan  AFG  2007                 0.001845\n",
      "4  Afghanistan  AFG  2008                 0.001804\n"
     ]
    }
   ],
   "source": [
    "internet = pd.read_csv(r\"C:\\Users\\yeshw\\Downloads\\internet.csv\")\n",
    "broadband = pd.read_csv(r\"C:\\Users\\yeshw\\Downloads\\broadband.csv\")\n",
    "people = pd.read_csv(r\"C:\\Users\\yeshw\\Downloads\\people.csv\")\n",
    "print(people.head())\n",
    "print(\"-----------------------------\")\n",
    "print(internet.head())\n",
    "print(\"-----------------------------\")\n",
    "print(broadband.head())"
   ]
  },
  {
   "cell_type": "markdown",
   "id": "dd53df42",
   "metadata": {},
   "source": [
    "### What are the top 5 countries with the highest internet use (by population share)?"
   ]
  },
  {
   "cell_type": "code",
   "execution_count": 26,
   "id": "b98fa2a5",
   "metadata": {
    "scrolled": true
   },
   "outputs": [
    {
     "data": {
      "text/html": [
       "<div>\n",
       "<style scoped>\n",
       "    .dataframe tbody tr th:only-of-type {\n",
       "        vertical-align: middle;\n",
       "    }\n",
       "\n",
       "    .dataframe tbody tr th {\n",
       "        vertical-align: top;\n",
       "    }\n",
       "\n",
       "    .dataframe thead th {\n",
       "        text-align: right;\n",
       "    }\n",
       "</style>\n",
       "<table border=\"1\" class=\"dataframe\">\n",
       "  <thead>\n",
       "    <tr style=\"text-align: right;\">\n",
       "      <th></th>\n",
       "      <th>Entity</th>\n",
       "      <th>Year</th>\n",
       "      <th>population_share</th>\n",
       "    </tr>\n",
       "  </thead>\n",
       "  <tbody>\n",
       "    <tr>\n",
       "      <th>0</th>\n",
       "      <td>Bahrain</td>\n",
       "      <td>2019</td>\n",
       "      <td>99.701504</td>\n",
       "    </tr>\n",
       "    <tr>\n",
       "      <th>1</th>\n",
       "      <td>Qatar</td>\n",
       "      <td>2019</td>\n",
       "      <td>99.652804</td>\n",
       "    </tr>\n",
       "    <tr>\n",
       "      <th>2</th>\n",
       "      <td>Kuwait</td>\n",
       "      <td>2019</td>\n",
       "      <td>99.542676</td>\n",
       "    </tr>\n",
       "    <tr>\n",
       "      <th>3</th>\n",
       "      <td>United Arab Emirates</td>\n",
       "      <td>2019</td>\n",
       "      <td>99.149998</td>\n",
       "    </tr>\n",
       "    <tr>\n",
       "      <th>4</th>\n",
       "      <td>Denmark</td>\n",
       "      <td>2019</td>\n",
       "      <td>98.046435</td>\n",
       "    </tr>\n",
       "  </tbody>\n",
       "</table>\n",
       "</div>"
      ],
      "text/plain": [
       "                 Entity  Year  population_share\n",
       "0               Bahrain  2019         99.701504\n",
       "1                 Qatar  2019         99.652804\n",
       "2                Kuwait  2019         99.542676\n",
       "3  United Arab Emirates  2019         99.149998\n",
       "4               Denmark  2019         98.046435"
      ]
     },
     "metadata": {},
     "output_type": "display_data"
    }
   ],
   "source": [
    "internet_2019 = internet[internet['Year'] == 2019]\n",
    "total_usage = internet_2019.groupby(['Entity','Year'])['Internet_Usage'].sum().sort_values(ascending = False).reset_index(name = 'population_share')\n",
    "top_5_usage = (total_usage.head(5))\n",
    "display(top_5_usage)"
   ]
  },
  {
   "cell_type": "markdown",
   "id": "c44cc680",
   "metadata": {},
   "source": [
    "### How many people had internet access in those countries in 2019?"
   ]
  },
  {
   "cell_type": "code",
   "execution_count": 28,
   "id": "655dfe3a",
   "metadata": {},
   "outputs": [
    {
     "data": {
      "text/html": [
       "<div>\n",
       "<style scoped>\n",
       "    .dataframe tbody tr th:only-of-type {\n",
       "        vertical-align: middle;\n",
       "    }\n",
       "\n",
       "    .dataframe tbody tr th {\n",
       "        vertical-align: top;\n",
       "    }\n",
       "\n",
       "    .dataframe thead th {\n",
       "        text-align: right;\n",
       "    }\n",
       "</style>\n",
       "<table border=\"1\" class=\"dataframe\">\n",
       "  <thead>\n",
       "    <tr style=\"text-align: right;\">\n",
       "      <th></th>\n",
       "      <th>index</th>\n",
       "      <th>Entity</th>\n",
       "      <th>Users</th>\n",
       "    </tr>\n",
       "  </thead>\n",
       "  <tbody>\n",
       "    <tr>\n",
       "      <th>0</th>\n",
       "      <td>477</td>\n",
       "      <td>Bahrain</td>\n",
       "      <td>1489735</td>\n",
       "    </tr>\n",
       "    <tr>\n",
       "      <th>1</th>\n",
       "      <td>1565</td>\n",
       "      <td>Denmark</td>\n",
       "      <td>5682653</td>\n",
       "    </tr>\n",
       "    <tr>\n",
       "      <th>2</th>\n",
       "      <td>3091</td>\n",
       "      <td>Kuwait</td>\n",
       "      <td>4420795</td>\n",
       "    </tr>\n",
       "    <tr>\n",
       "      <th>3</th>\n",
       "      <td>4728</td>\n",
       "      <td>Qatar</td>\n",
       "      <td>2797495</td>\n",
       "    </tr>\n",
       "    <tr>\n",
       "      <th>4</th>\n",
       "      <td>5986</td>\n",
       "      <td>United Arab Emirates</td>\n",
       "      <td>9133361</td>\n",
       "    </tr>\n",
       "  </tbody>\n",
       "</table>\n",
       "</div>"
      ],
      "text/plain": [
       "   index                Entity    Users\n",
       "0    477               Bahrain  1489735\n",
       "1   1565               Denmark  5682653\n",
       "2   3091                Kuwait  4420795\n",
       "3   4728                 Qatar  2797495\n",
       "4   5986  United Arab Emirates  9133361"
      ]
     },
     "metadata": {},
     "output_type": "display_data"
    }
   ],
   "source": [
    "people_2019 = people[(people['Year'] == 2019) & (people['Entity'].isin(['Bahrain','Qatar','Kuwait','United Arab Emirates','Denmark']))] \n",
    "access_2019 = (people_2019.loc[:, ['Entity', 'Users']]).reset_index()\n",
    "display(access_2019)"
   ]
  },
  {
   "cell_type": "markdown",
   "id": "53cef2ef",
   "metadata": {},
   "source": [
    "### What are the top 5 countries with the highest internet use for each of the following regions:  'Middle East & North Africa', 'Latin America & Caribbean', 'East Asia & Pacific', 'South Asia', 'North America', 'Europe & Central Asia'?"
   ]
  },
  {
   "cell_type": "code",
   "execution_count": 30,
   "id": "07cc8bc5",
   "metadata": {},
   "outputs": [
    {
     "data": {
      "text/html": [
       "<div>\n",
       "<style scoped>\n",
       "    .dataframe tbody tr th:only-of-type {\n",
       "        vertical-align: middle;\n",
       "    }\n",
       "\n",
       "    .dataframe tbody tr th {\n",
       "        vertical-align: top;\n",
       "    }\n",
       "\n",
       "    .dataframe thead th {\n",
       "        text-align: right;\n",
       "    }\n",
       "</style>\n",
       "<table border=\"1\" class=\"dataframe\">\n",
       "  <thead>\n",
       "    <tr style=\"text-align: right;\">\n",
       "      <th></th>\n",
       "      <th>index</th>\n",
       "      <th>Entity</th>\n",
       "      <th>Code</th>\n",
       "      <th>Year</th>\n",
       "      <th>Internet_Usage</th>\n",
       "      <th>ISO-alpha3 Code</th>\n",
       "      <th>Region 1</th>\n",
       "      <th>Continent</th>\n",
       "    </tr>\n",
       "  </thead>\n",
       "  <tbody>\n",
       "    <tr>\n",
       "      <th>0</th>\n",
       "      <td>21</td>\n",
       "      <td>Afghanistan</td>\n",
       "      <td>AFG</td>\n",
       "      <td>2017</td>\n",
       "      <td>11.447688</td>\n",
       "      <td>AFG</td>\n",
       "      <td>Southern Asia</td>\n",
       "      <td>Asia</td>\n",
       "    </tr>\n",
       "    <tr>\n",
       "      <th>1</th>\n",
       "      <td>49</td>\n",
       "      <td>Albania</td>\n",
       "      <td>ALB</td>\n",
       "      <td>2017</td>\n",
       "      <td>71.847041</td>\n",
       "      <td>ALB</td>\n",
       "      <td>Southern Europe</td>\n",
       "      <td>Europe</td>\n",
       "    </tr>\n",
       "    <tr>\n",
       "      <th>2</th>\n",
       "      <td>78</td>\n",
       "      <td>Algeria</td>\n",
       "      <td>DZA</td>\n",
       "      <td>2017</td>\n",
       "      <td>47.691055</td>\n",
       "      <td>DZA</td>\n",
       "      <td>Northern Africa</td>\n",
       "      <td>Africa</td>\n",
       "    </tr>\n",
       "    <tr>\n",
       "      <th>3</th>\n",
       "      <td>112</td>\n",
       "      <td>Andorra</td>\n",
       "      <td>AND</td>\n",
       "      <td>2017</td>\n",
       "      <td>91.567467</td>\n",
       "      <td>AND</td>\n",
       "      <td>Southern Europe</td>\n",
       "      <td>Europe</td>\n",
       "    </tr>\n",
       "    <tr>\n",
       "      <th>4</th>\n",
       "      <td>192</td>\n",
       "      <td>Argentina</td>\n",
       "      <td>ARG</td>\n",
       "      <td>2017</td>\n",
       "      <td>74.294907</td>\n",
       "      <td>ARG</td>\n",
       "      <td>South America</td>\n",
       "      <td>South America</td>\n",
       "    </tr>\n",
       "  </tbody>\n",
       "</table>\n",
       "</div>"
      ],
      "text/plain": [
       "   index       Entity Code  Year  Internet_Usage ISO-alpha3 Code  \\\n",
       "0     21  Afghanistan  AFG  2017       11.447688             AFG   \n",
       "1     49      Albania  ALB  2017       71.847041             ALB   \n",
       "2     78      Algeria  DZA  2017       47.691055             DZA   \n",
       "3    112      Andorra  AND  2017       91.567467             AND   \n",
       "4    192    Argentina  ARG  2017       74.294907             ARG   \n",
       "\n",
       "          Region 1      Continent  \n",
       "0    Southern Asia           Asia  \n",
       "1  Southern Europe         Europe  \n",
       "2  Northern Africa         Africa  \n",
       "3  Southern Europe         Europe  \n",
       "4    South America  South America  "
      ]
     },
     "metadata": {},
     "output_type": "display_data"
    }
   ],
   "source": [
    "new = internet.dropna(axis = 0, subset = ('Code'))\n",
    "df1 = pd.read_html('https://statisticstimes.com/geography/countries-by-continents.php', thousands=None, decimal=',')\n",
    "may = pd.DataFrame(df1[2])\n",
    "region = (may.loc[:,['ISO-alpha3 Code','Region 1','Continent']])\n",
    "region_f = new.merge(region, left_on = 'Code', right_on = 'ISO-alpha3 Code')\n",
    "region_2019 = region_f[region_f['Year'] == 2017].reset_index()\n",
    "display(region_2019.head())"
   ]
  },
  {
   "cell_type": "markdown",
   "id": "ef989baa",
   "metadata": {},
   "source": [
    "### top 5 countries with the highest internet use for Middle East & North Africa"
   ]
  },
  {
   "cell_type": "code",
   "execution_count": 37,
   "id": "fcc464bd",
   "metadata": {},
   "outputs": [
    {
     "data": {
      "text/html": [
       "<div>\n",
       "<style scoped>\n",
       "    .dataframe tbody tr th:only-of-type {\n",
       "        vertical-align: middle;\n",
       "    }\n",
       "\n",
       "    .dataframe tbody tr th {\n",
       "        vertical-align: top;\n",
       "    }\n",
       "\n",
       "    .dataframe thead th {\n",
       "        text-align: right;\n",
       "    }\n",
       "</style>\n",
       "<table border=\"1\" class=\"dataframe\">\n",
       "  <thead>\n",
       "    <tr style=\"text-align: right;\">\n",
       "      <th></th>\n",
       "      <th>Entity</th>\n",
       "      <th>Internet_Usage</th>\n",
       "    </tr>\n",
       "  </thead>\n",
       "  <tbody>\n",
       "    <tr>\n",
       "      <th>93</th>\n",
       "      <td>Kuwait</td>\n",
       "      <td>97.999989</td>\n",
       "    </tr>\n",
       "    <tr>\n",
       "      <th>142</th>\n",
       "      <td>Qatar</td>\n",
       "      <td>97.388849</td>\n",
       "    </tr>\n",
       "    <tr>\n",
       "      <th>11</th>\n",
       "      <td>Bahrain</td>\n",
       "      <td>95.878136</td>\n",
       "    </tr>\n",
       "    <tr>\n",
       "      <th>183</th>\n",
       "      <td>United Arab Emirates</td>\n",
       "      <td>94.819923</td>\n",
       "    </tr>\n",
       "    <tr>\n",
       "      <th>151</th>\n",
       "      <td>Saudi Arabia</td>\n",
       "      <td>94.175600</td>\n",
       "    </tr>\n",
       "  </tbody>\n",
       "</table>\n",
       "</div>"
      ],
      "text/plain": [
       "                   Entity  Internet_Usage\n",
       "93                 Kuwait       97.999989\n",
       "142                 Qatar       97.388849\n",
       "11                Bahrain       95.878136\n",
       "183  United Arab Emirates       94.819923\n",
       "151          Saudi Arabia       94.175600"
      ]
     },
     "metadata": {},
     "output_type": "display_data"
    }
   ],
   "source": [
    "me_na = region_2019[region_2019['Region 1'].isin(['Western Asia','Northern Africa'])]\n",
    "top_me_na = me_na.sort_values('Internet_Usage', ascending = False)\n",
    "display(top_me_na.loc[:,['Entity', 'Internet_Usage']].head(5))"
   ]
  },
  {
   "cell_type": "markdown",
   "id": "d50acf0b",
   "metadata": {},
   "source": [
    " ### top 5 countries with the highest internet use for 'Latin America & Caribbean'"
   ]
  },
  {
   "cell_type": "code",
   "execution_count": 40,
   "id": "34ea670d",
   "metadata": {},
   "outputs": [
    {
     "data": {
      "text/html": [
       "<div>\n",
       "<style scoped>\n",
       "    .dataframe tbody tr th:only-of-type {\n",
       "        vertical-align: middle;\n",
       "    }\n",
       "\n",
       "    .dataframe tbody tr th {\n",
       "        vertical-align: top;\n",
       "    }\n",
       "\n",
       "    .dataframe thead th {\n",
       "        text-align: right;\n",
       "    }\n",
       "</style>\n",
       "<table border=\"1\" class=\"dataframe\">\n",
       "  <thead>\n",
       "    <tr style=\"text-align: right;\">\n",
       "      <th></th>\n",
       "      <th>Entity</th>\n",
       "      <th>Internet_Usage</th>\n",
       "    </tr>\n",
       "  </thead>\n",
       "  <tbody>\n",
       "    <tr>\n",
       "      <th>0</th>\n",
       "      <td>Aruba</td>\n",
       "      <td>97.170000</td>\n",
       "    </tr>\n",
       "    <tr>\n",
       "      <th>1</th>\n",
       "      <td>Bahamas</td>\n",
       "      <td>85.000000</td>\n",
       "    </tr>\n",
       "    <tr>\n",
       "      <th>2</th>\n",
       "      <td>Chile</td>\n",
       "      <td>82.327487</td>\n",
       "    </tr>\n",
       "    <tr>\n",
       "      <th>3</th>\n",
       "      <td>Barbados</td>\n",
       "      <td>81.760778</td>\n",
       "    </tr>\n",
       "    <tr>\n",
       "      <th>4</th>\n",
       "      <td>Cayman Islands</td>\n",
       "      <td>81.067693</td>\n",
       "    </tr>\n",
       "  </tbody>\n",
       "</table>\n",
       "</div>"
      ],
      "text/plain": [
       "           Entity  Internet_Usage\n",
       "0           Aruba       97.170000\n",
       "1         Bahamas       85.000000\n",
       "2           Chile       82.327487\n",
       "3        Barbados       81.760778\n",
       "4  Cayman Islands       81.067693"
      ]
     },
     "metadata": {},
     "output_type": "display_data"
    }
   ],
   "source": [
    "la_c = region_2019[region_2019['Region 1'].isin(['Caribbean','South America','Central America',])]\n",
    "top_la_a = la_c.sort_values('Internet_Usage', ascending = False)\n",
    "display(top_la_a.loc[:,['Entity', 'Internet_Usage']].head(5).reset_index(drop = True))"
   ]
  },
  {
   "cell_type": "markdown",
   "id": "6648956f",
   "metadata": {},
   "source": [
    " ### top 5 countries with the highest internet use for 'East Asia & Pacific'"
   ]
  },
  {
   "cell_type": "code",
   "execution_count": 41,
   "id": "afb33fc5",
   "metadata": {},
   "outputs": [
    {
     "data": {
      "text/html": [
       "<div>\n",
       "<style scoped>\n",
       "    .dataframe tbody tr th:only-of-type {\n",
       "        vertical-align: middle;\n",
       "    }\n",
       "\n",
       "    .dataframe tbody tr th {\n",
       "        vertical-align: top;\n",
       "    }\n",
       "\n",
       "    .dataframe thead th {\n",
       "        text-align: right;\n",
       "    }\n",
       "</style>\n",
       "<table border=\"1\" class=\"dataframe\">\n",
       "  <thead>\n",
       "    <tr style=\"text-align: right;\">\n",
       "      <th></th>\n",
       "      <th>Entity</th>\n",
       "      <th>Internet_Usage</th>\n",
       "    </tr>\n",
       "  </thead>\n",
       "  <tbody>\n",
       "    <tr>\n",
       "      <th>0</th>\n",
       "      <td>South Korea</td>\n",
       "      <td>95.069422</td>\n",
       "    </tr>\n",
       "    <tr>\n",
       "      <th>1</th>\n",
       "      <td>Japan</td>\n",
       "      <td>91.726547</td>\n",
       "    </tr>\n",
       "    <tr>\n",
       "      <th>2</th>\n",
       "      <td>New Zealand</td>\n",
       "      <td>90.811093</td>\n",
       "    </tr>\n",
       "    <tr>\n",
       "      <th>3</th>\n",
       "      <td>Hong Kong</td>\n",
       "      <td>89.415945</td>\n",
       "    </tr>\n",
       "    <tr>\n",
       "      <th>4</th>\n",
       "      <td>Australia</td>\n",
       "      <td>86.545049</td>\n",
       "    </tr>\n",
       "  </tbody>\n",
       "</table>\n",
       "</div>"
      ],
      "text/plain": [
       "        Entity  Internet_Usage\n",
       "0  South Korea       95.069422\n",
       "1        Japan       91.726547\n",
       "2  New Zealand       90.811093\n",
       "3    Hong Kong       89.415945\n",
       "4    Australia       86.545049"
      ]
     },
     "metadata": {},
     "output_type": "display_data"
    }
   ],
   "source": [
    "ea_p = region_2019[(region_2019['Region 1'] == 'Eastern Asia') | (region_2019['Continent'] == 'Oceania')]\n",
    "top_ea_p = ea_p.sort_values('Internet_Usage', ascending = False)\n",
    "display(top_ea_p.loc[:,['Entity', 'Internet_Usage']].head(5).reset_index(drop = True))"
   ]
  },
  {
   "cell_type": "markdown",
   "id": "3d7d0113",
   "metadata": {},
   "source": [
    " ### top 5 countries with the highest internet use for 'South Asia'"
   ]
  },
  {
   "cell_type": "code",
   "execution_count": 42,
   "id": "af141f35",
   "metadata": {},
   "outputs": [
    {
     "data": {
      "text/html": [
       "<div>\n",
       "<style scoped>\n",
       "    .dataframe tbody tr th:only-of-type {\n",
       "        vertical-align: middle;\n",
       "    }\n",
       "\n",
       "    .dataframe tbody tr th {\n",
       "        vertical-align: top;\n",
       "    }\n",
       "\n",
       "    .dataframe thead th {\n",
       "        text-align: right;\n",
       "    }\n",
       "</style>\n",
       "<table border=\"1\" class=\"dataframe\">\n",
       "  <thead>\n",
       "    <tr style=\"text-align: right;\">\n",
       "      <th></th>\n",
       "      <th>Entity</th>\n",
       "      <th>Internet_Usage</th>\n",
       "    </tr>\n",
       "  </thead>\n",
       "  <tbody>\n",
       "    <tr>\n",
       "      <th>0</th>\n",
       "      <td>Iran</td>\n",
       "      <td>64.043974</td>\n",
       "    </tr>\n",
       "    <tr>\n",
       "      <th>1</th>\n",
       "      <td>Maldives</td>\n",
       "      <td>63.185666</td>\n",
       "    </tr>\n",
       "    <tr>\n",
       "      <th>2</th>\n",
       "      <td>Sri Lanka</td>\n",
       "      <td>34.113348</td>\n",
       "    </tr>\n",
       "    <tr>\n",
       "      <th>3</th>\n",
       "      <td>India</td>\n",
       "      <td>32.000000</td>\n",
       "    </tr>\n",
       "    <tr>\n",
       "      <th>4</th>\n",
       "      <td>Nepal</td>\n",
       "      <td>21.403510</td>\n",
       "    </tr>\n",
       "  </tbody>\n",
       "</table>\n",
       "</div>"
      ],
      "text/plain": [
       "      Entity  Internet_Usage\n",
       "0       Iran       64.043974\n",
       "1   Maldives       63.185666\n",
       "2  Sri Lanka       34.113348\n",
       "3      India       32.000000\n",
       "4      Nepal       21.403510"
      ]
     },
     "metadata": {},
     "output_type": "display_data"
    }
   ],
   "source": [
    "sa = region_2019[region_2019['Region 1'] == 'Southern Asia']\n",
    "top_sa = sa.sort_values('Internet_Usage', ascending = False)\n",
    "display(top_sa.loc[:,['Entity', 'Internet_Usage']].head(5).reset_index(drop = True))"
   ]
  },
  {
   "cell_type": "markdown",
   "id": "00665fe3",
   "metadata": {},
   "source": [
    " ### top 5 countries with the highest internet use for 'North America'"
   ]
  },
  {
   "cell_type": "code",
   "execution_count": 43,
   "id": "136eaab8",
   "metadata": {},
   "outputs": [
    {
     "data": {
      "text/html": [
       "<div>\n",
       "<style scoped>\n",
       "    .dataframe tbody tr th:only-of-type {\n",
       "        vertical-align: middle;\n",
       "    }\n",
       "\n",
       "    .dataframe tbody tr th {\n",
       "        vertical-align: top;\n",
       "    }\n",
       "\n",
       "    .dataframe thead th {\n",
       "        text-align: right;\n",
       "    }\n",
       "</style>\n",
       "<table border=\"1\" class=\"dataframe\">\n",
       "  <thead>\n",
       "    <tr style=\"text-align: right;\">\n",
       "      <th></th>\n",
       "      <th>Entity</th>\n",
       "      <th>Internet_Usage</th>\n",
       "    </tr>\n",
       "  </thead>\n",
       "  <tbody>\n",
       "    <tr>\n",
       "      <th>0</th>\n",
       "      <td>Bermuda</td>\n",
       "      <td>98.370000</td>\n",
       "    </tr>\n",
       "    <tr>\n",
       "      <th>1</th>\n",
       "      <td>Canada</td>\n",
       "      <td>92.701372</td>\n",
       "    </tr>\n",
       "    <tr>\n",
       "      <th>2</th>\n",
       "      <td>United States</td>\n",
       "      <td>87.274889</td>\n",
       "    </tr>\n",
       "    <tr>\n",
       "      <th>3</th>\n",
       "      <td>Greenland</td>\n",
       "      <td>69.482462</td>\n",
       "    </tr>\n",
       "  </tbody>\n",
       "</table>\n",
       "</div>"
      ],
      "text/plain": [
       "          Entity  Internet_Usage\n",
       "0        Bermuda       98.370000\n",
       "1         Canada       92.701372\n",
       "2  United States       87.274889\n",
       "3      Greenland       69.482462"
      ]
     },
     "metadata": {},
     "output_type": "display_data"
    }
   ],
   "source": [
    "na = region_2019[region_2019['Region 1'] == 'Northern America']\n",
    "top_na = na.sort_values('Internet_Usage', ascending = False)\n",
    "display(top_na.loc[:,['Entity', 'Internet_Usage']].head(5).reset_index(drop = True))"
   ]
  },
  {
   "cell_type": "markdown",
   "id": "c14a3ab6",
   "metadata": {},
   "source": [
    " ### top 5 countries with the highest internet use for 'Europe & Central Asia'"
   ]
  },
  {
   "cell_type": "code",
   "execution_count": 44,
   "id": "04f7fafb",
   "metadata": {},
   "outputs": [
    {
     "data": {
      "text/html": [
       "<div>\n",
       "<style scoped>\n",
       "    .dataframe tbody tr th:only-of-type {\n",
       "        vertical-align: middle;\n",
       "    }\n",
       "\n",
       "    .dataframe tbody tr th {\n",
       "        vertical-align: top;\n",
       "    }\n",
       "\n",
       "    .dataframe thead th {\n",
       "        text-align: right;\n",
       "    }\n",
       "</style>\n",
       "<table border=\"1\" class=\"dataframe\">\n",
       "  <thead>\n",
       "    <tr style=\"text-align: right;\">\n",
       "      <th></th>\n",
       "      <th>Entity</th>\n",
       "      <th>Internet_Usage</th>\n",
       "    </tr>\n",
       "  </thead>\n",
       "  <tbody>\n",
       "    <tr>\n",
       "      <th>0</th>\n",
       "      <td>Liechtenstein</td>\n",
       "      <td>99.546612</td>\n",
       "    </tr>\n",
       "    <tr>\n",
       "      <th>1</th>\n",
       "      <td>Iceland</td>\n",
       "      <td>98.255201</td>\n",
       "    </tr>\n",
       "    <tr>\n",
       "      <th>2</th>\n",
       "      <td>Faeroe Islands</td>\n",
       "      <td>97.581959</td>\n",
       "    </tr>\n",
       "    <tr>\n",
       "      <th>3</th>\n",
       "      <td>Luxembourg</td>\n",
       "      <td>97.362960</td>\n",
       "    </tr>\n",
       "    <tr>\n",
       "      <th>4</th>\n",
       "      <td>Denmark</td>\n",
       "      <td>97.099362</td>\n",
       "    </tr>\n",
       "  </tbody>\n",
       "</table>\n",
       "</div>"
      ],
      "text/plain": [
       "           Entity  Internet_Usage\n",
       "0   Liechtenstein       99.546612\n",
       "1         Iceland       98.255201\n",
       "2  Faeroe Islands       97.581959\n",
       "3      Luxembourg       97.362960\n",
       "4         Denmark       97.099362"
      ]
     },
     "metadata": {},
     "output_type": "display_data"
    }
   ],
   "source": [
    "e_ca = region_2019[(region_2019['Region 1'] == 'Central Asia') | (region_2019['Continent'] == 'Europe')]\n",
    "top_e_ca = e_ca.sort_values('Internet_Usage', ascending = False)\n",
    "display(top_e_ca.loc[:,['Entity', 'Internet_Usage']].head(5).reset_index(drop = True))"
   ]
  },
  {
   "cell_type": "markdown",
   "id": "12b12618",
   "metadata": {},
   "source": [
    "### visualization of the five regions' internet usage over time"
   ]
  },
  {
   "cell_type": "code",
   "execution_count": 12,
   "id": "8a776de5",
   "metadata": {},
   "outputs": [],
   "source": [
    "\n",
    "africa = region_f[region_f['Region 1'].isin(['Western Asia','Northern Africa'])].groupby('Year')['Internet_Usage'].sum()\n",
    "latin = region_f[region_f['Region 1'].isin(['Caribbean','South America','Central America',])].groupby('Year')['Internet_Usage'].sum()\n",
    "ea = region_f[(region_f['Region 1'] == 'Eastern Asia') | (region_2019['Continent'] == 'Oceania')].groupby('Year')['Internet_Usage'].sum()\n",
    "south = region_f[region_f['Region 1'] == 'Southern Asia'].groupby('Year')['Internet_Usage'].sum()\n",
    "north = region_f[region_f['Region 1'] == 'Northern America'].groupby('Year')['Internet_Usage'].sum()\n",
    "europe = region_f[(region_f['Region 1'] == 'Central Asia') | (region_2019['Continent'] == 'Europe')].groupby('Year')['Internet_Usage'].sum()\n"
   ]
  },
  {
   "cell_type": "code",
   "execution_count": 46,
   "id": "df7165c8",
   "metadata": {},
   "outputs": [
    {
     "data": {
      "image/png": "[encoded data removed]",
      "text/plain": [
       "<Figure size 1400x700 with 1 Axes>"
      ]
     },
     "metadata": {},
     "output_type": "display_data"
    }
   ],
   "source": [
    "plt.figure(figsize=(14,7))\n",
    "sns.lineplot(data = africa[africa.index < 2020], label = 'Middle East & North Africa')\n",
    "sns.lineplot(data = latin[latin.index < 2020], label = 'Latin America & Caribbean')\n",
    "sns.lineplot(data = south[south.index < 2020], label = 'South Asia')\n",
    "sns.lineplot(data = north[north.index < 2020], label = 'North America')\n",
    "sns.lineplot(data = ea[ea.index < 2020], label = 'East Asia & Pacific')\n",
    "sns.lineplot(data = europe[europe.index < 2020], label = 'Europe & Central Asia')\n",
    "plt.title('Internet Usage over Time')\n",
    "plt.legend()\n",
    "plt.show()"
   ]
  },
  {
   "cell_type": "markdown",
   "id": "d4a34758",
   "metadata": {},
   "source": [
    "### What are the 5 countries with the most internet users?"
   ]
  },
  {
   "cell_type": "code",
   "execution_count": 47,
   "id": "6323d492",
   "metadata": {},
   "outputs": [
    {
     "data": {
      "text/html": [
       "<div>\n",
       "<style scoped>\n",
       "    .dataframe tbody tr th:only-of-type {\n",
       "        vertical-align: middle;\n",
       "    }\n",
       "\n",
       "    .dataframe tbody tr th {\n",
       "        vertical-align: top;\n",
       "    }\n",
       "\n",
       "    .dataframe thead th {\n",
       "        text-align: right;\n",
       "    }\n",
       "</style>\n",
       "<table border=\"1\" class=\"dataframe\">\n",
       "  <thead>\n",
       "    <tr style=\"text-align: right;\">\n",
       "      <th></th>\n",
       "      <th>Entity</th>\n",
       "      <th>Code</th>\n",
       "      <th>Year</th>\n",
       "      <th>Users</th>\n",
       "    </tr>\n",
       "  </thead>\n",
       "  <tbody>\n",
       "    <tr>\n",
       "      <th>0</th>\n",
       "      <td>China</td>\n",
       "      <td>CHN</td>\n",
       "      <td>2019</td>\n",
       "      <td>911554782</td>\n",
       "    </tr>\n",
       "    <tr>\n",
       "      <th>1</th>\n",
       "      <td>India</td>\n",
       "      <td>IND</td>\n",
       "      <td>2019</td>\n",
       "      <td>406634942</td>\n",
       "    </tr>\n",
       "    <tr>\n",
       "      <th>2</th>\n",
       "      <td>United States</td>\n",
       "      <td>USA</td>\n",
       "      <td>2019</td>\n",
       "      <td>298983035</td>\n",
       "    </tr>\n",
       "    <tr>\n",
       "      <th>3</th>\n",
       "      <td>Brazil</td>\n",
       "      <td>BRA</td>\n",
       "      <td>2019</td>\n",
       "      <td>156533889</td>\n",
       "    </tr>\n",
       "    <tr>\n",
       "      <th>4</th>\n",
       "      <td>Indonesia</td>\n",
       "      <td>IDN</td>\n",
       "      <td>2019</td>\n",
       "      <td>128565820</td>\n",
       "    </tr>\n",
       "  </tbody>\n",
       "</table>\n",
       "</div>"
      ],
      "text/plain": [
       "          Entity Code  Year      Users\n",
       "0          China  CHN  2019  911554782\n",
       "1          India  IND  2019  406634942\n",
       "2  United States  USA  2019  298983035\n",
       "3         Brazil  BRA  2019  156533889\n",
       "4      Indonesia  IDN  2019  128565820"
      ]
     },
     "metadata": {},
     "output_type": "display_data"
    }
   ],
   "source": [
    "most_users = people[people['Year'] == 2019].sort_values('Users', ascending = False).dropna().iloc[1:].head(5)\n",
    "display(most_users.reset_index(drop = True))"
   ]
  },
  {
   "cell_type": "code",
   "execution_count": 15,
   "id": "8ab10c54",
   "metadata": {},
   "outputs": [
    {
     "data": {
      "image/png": "[encoded data removed]",
      "text/plain": [
       "<Figure size 640x480 with 1 Axes>"
      ]
     },
     "metadata": {},
     "output_type": "display_data"
    }
   ],
   "source": [
    "sns.barplot( x = most_users['Entity'], y = most_users['Users'], data = most_users, palette = 'viridis' )\n",
    "plt.xlabel('Country')\n",
    "plt.ylabel('Internet Users')\n",
    "plt.title('Top 5 countries with the most users')\n",
    "plt.xticks(rotation = 45)\n",
    "\n",
    "plt.show()"
   ]
  },
  {
   "cell_type": "markdown",
   "id": "5642abf3",
   "metadata": {},
   "source": [
    "### correlation between internet usage (population share) and broadband subscriptions for 2019"
   ]
  },
  {
   "cell_type": "code",
   "execution_count": 16,
   "id": "852dab91",
   "metadata": {},
   "outputs": [
    {
     "name": "stdout",
     "output_type": "stream",
     "text": [
      " correlation between internet usage (population share) and broadband subscriptions for 2019 is 0.56\n"
     ]
    }
   ],
   "source": [
    "int_broad = internet.merge(broadband, on = ['Code','Year'])\n",
    "int_broad_2019 = int_broad[int_broad['Year'] == 2019]\n",
    "int_broad_2019 = int_broad_2019.drop_duplicates(subset = ['Entity_x'])\n",
    "corr = (int_broad_2019['Internet_Usage'].corr(int_broad_2019['Broadband_Subscriptions']))\n",
    "print(f\" correlation between internet usage (population share) and broadband subscriptions for 2019 is {round(corr,2)}\")"
   ]
  },
  {
   "cell_type": "code",
   "execution_count": 17,
   "id": "fb084e11",
   "metadata": {},
   "outputs": [
    {
     "data": {
      "image/png": "[encoded data removed]",
      "text/plain": [
       "<Figure size 640x480 with 1 Axes>"
      ]
     },
     "metadata": {},
     "output_type": "display_data"
    }
   ],
   "source": [
    "sns.regplot(x = int_broad_2019['Internet_Usage'], y = int_broad_2019['Broadband_Subscriptions'], data = int_broad_2019 , ci = None)\n",
    "plt.xlabel('Internet_Usage')\n",
    "plt.ylabel('Broadband_Subscriptions')\n",
    "plt.title('Correlation')\n",
    "plt.show()"
   ]
  },
  {
   "cell_type": "markdown",
   "id": "ae834d04",
   "metadata": {},
   "source": [
    "There exists a positive correlation between Internet Usage and Broadband usage"
   ]
  },
  {
   "cell_type": "code",
   "execution_count": null,
   "id": "d3c1fec6",
   "metadata": {},
   "outputs": [],
   "source": []
  }
 ],
 "metadata": {
  "kernelspec": {
   "display_name": "Python 3 (ipykernel)",
   "language": "python",
   "name": "python3"
  },
  "language_info": {
   "codemirror_mode": {
    "name": "ipython",
    "version": 3
   },
   "file_extension": ".py",
   "mimetype": "text/x-python",
   "name": "python",
   "nbconvert_exporter": "python",
   "pygments_lexer": "ipython3",
   "version": "3.11.3"
  }
 },
 "nbformat": 4,
 "nbformat_minor": 5
}
